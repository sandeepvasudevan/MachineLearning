{
 "cells": [
  {
   "cell_type": "code",
   "execution_count": 46,
   "metadata": {},
   "outputs": [
    {
     "name": "stdout",
     "output_type": "stream",
     "text": [
      "K Means Clustering\n",
      "**************************************************\n",
      "WCSS for cluster range [400.0, 270.66820496844673, 157.70400815035947, 108.92131661364357, 65.56840815571681, 55.057348270385994, 44.86475569922556, 37.19678168271214, 32.377243774440345]\n",
      "Clustering of the data points using K Means [4 3 4 3 4 3 4 3 4 3 4 3 4 3 4 3 4 3 4 3 4 3 4 3 4 3 4 3 4 3 4 3 4 3 4 3 4\n",
      " 3 4 3 4 3 4 1 4 3 1 1 1 1 1 1 1 1 1 1 1 1 1 1 1 1 1 1 1 1 1 1 1 1 1 1 1 1\n",
      " 1 1 1 1 1 1 1 1 1 1 1 1 1 1 1 1 1 1 1 1 1 1 1 1 1 1 1 1 1 1 1 1 1 1 1 1 1\n",
      " 1 1 1 1 1 1 1 1 1 1 1 1 2 0 2 1 2 0 2 0 2 1 2 0 2 0 2 0 2 0 2 1 2 0 2 0 2\n",
      " 0 2 0 2 0 2 0 2 0 2 0 2 0 2 0 2 0 2 0 2 0 2 0 2 0 2 0 2 0 2 0 2 0 5 0 5 0\n",
      " 5 0 5 0 5 0 5 0 5 0 5 0 5 0 5]\n",
      "Accuracy Score 0.53976103063432\n",
      "\n",
      "WCSS for KMeans Clustering 55.057348270385994\n",
      "\n",
      "\n",
      "DBSCAN\n",
      "********************************************************\n",
      "Labels [-1 -1 -1 -1 -1 -1 -1 -1 -1 -1 -1 -1 -1 -1 -1 -1 -1 -1 -1 -1 -1 -1 -1 -1\n",
      " -1 -1 -1 -1 -1 -1 -1 -1 -1 -1 -1 -1 -1 -1 -1 -1 -1 -1 -1 -1 -1 -1 -1 -1\n",
      " -1 -1 -1 -1 -1 -1 -1 -1  0  0  0  0 -1 -1  0 -1  0 -1  0  0 -1  0 -1 -1\n",
      "  0 -1  1  1  1  1  1  1  1  1  1  1  1  1  1  1 -1  2  1  2  2  2  2  2\n",
      "  2  2  2  2  2  2  2  2  2  2  2  2  2  2  2  2  2  2  2  2  2  3  2  3\n",
      "  3 -1  3 -1 -1  4 -1 -1 -1  4  5  4 -1  4  5 -1  5  4 -1  4  5 -1 -1  6\n",
      " -1 -1 -1  7 -1  6 -1  6 -1  7 -1  6 -1  7 -1  7 -1 -1 -1 -1 -1 -1 -1 -1\n",
      " -1 -1  8 -1  8 -1  8 -1  8 -1 -1 -1 -1 -1 -1 -1 -1 -1 -1 -1 -1 -1 -1 -1\n",
      " -1 -1 -1 -1 -1 -1 -1 -1]\n",
      "Numbers of clusters in DBSCAN 9\n",
      "Accuracy Score for DBSCAN -0.1908319132560097\n"
     ]
    },
    {
     "data": {
      "image/png": "[encoded data removed]",
      "text/plain": [
       "<Figure size 432x288 with 1 Axes>"
      ]
     },
     "metadata": {
      "needs_background": "light"
     },
     "output_type": "display_data"
    }
   ],
   "source": [
    "#Import the required libraries\n",
    "import numpy as np\n",
    "import pandas as pd\n",
    "import matplotlib.pyplot as plt\n",
    "from sklearn.preprocessing import StandardScaler\n",
    "from sklearn import metrics\n",
    "from sklearn.cluster import KMeans,DBSCAN\n",
    "\n",
    "#Import the dataset and normalize the data \n",
    "data=pd.read_csv('C:/Users/Sandeep.Vasudevan/OneDrive - EY/Desktop/Keras/Mall_Customers.csv')\n",
    "X=data.iloc[:,3:5]\n",
    "standardScaler=StandardScaler()\n",
    "scaledData=standardScaler.fit_transform(X)\n",
    "\n",
    "#Implementing K Means\n",
    "print('K Means Clustering')\n",
    "print('**************************************************')\n",
    "WCSS=[]\n",
    "for cluster in range(1,10):\n",
    "    model_KMeans=KMeans(n_clusters=cluster,init='k-means++')\n",
    "    model_KMeans.fit(scaledData)\n",
    "    y_kmeans=model_KMeans.fit_predict(scaledData)\n",
    "    WCSS.append(model_KMeans.inertia_)\n",
    "    \n",
    "dataset=pd.DataFrame({'Cluster':range(1,10),'WCSS':WCSS})   \n",
    "plt.plot(dataset['Cluster'],dataset['WCSS'],marker='o')\n",
    "plt.xlabel('No of Clusters in KMeans')\n",
    "plt.ylabel('WCSS for each cluster')\n",
    "\n",
    "print('WCSS for cluster range',WCSS)\n",
    "    \n",
    "model_KMeans=KMeans(n_clusters=6,init='k-means++')\n",
    "model_KMeans.fit(scaledData)\n",
    "labels=model_KMeans.labels_\n",
    "y_kmeans=model_KMeans.fit_predict(scaledData)\n",
    "print('Clustering of the data points using K Means',y_kmeans)\n",
    "print('Accuracy Score',metrics.silhouette_score(X,labels))\n",
    "print()\n",
    "print('WCSS for KMeans Clustering',model_KMeans.inertia_)\n",
    "print()\n",
    "print()\n",
    "print('DBSCAN')\n",
    "print('********************************************************')\n",
    "\n",
    "\n",
    "#Implementing DB Scan\n",
    "dbscan=DBSCAN(eps=3,min_samples=4)\n",
    "model=dbscan.fit(X)\n",
    "labels=model.labels_\n",
    "print('Labels',labels)\n",
    "cores=np.zeros_like(labels,dtype=bool)\n",
    "cores[dbscan.core_sample_indices_]=True\n",
    "num_clusters=len(set(labels))-(1 if -1 in labels else 0)\n",
    "print('Numbers of clusters in DBSCAN',num_clusters)\n",
    "print('Accuracy Score for DBSCAN',metrics.silhouette_score(X,labels))"
   ]
  },
  {
   "cell_type": "code",
   "execution_count": null,
   "metadata": {},
   "outputs": [],
   "source": []
  },
  {
   "cell_type": "code",
   "execution_count": null,
   "metadata": {},
   "outputs": [],
   "source": []
  },
  {
   "cell_type": "code",
   "execution_count": null,
   "metadata": {},
   "outputs": [],
   "source": []
  }
 ],
 "metadata": {
  "kernelspec": {
   "display_name": "Python 3",
   "language": "python",
   "name": "python3"
  },
  "language_info": {
   "codemirror_mode": {
    "name": "ipython",
    "version": 3
   },
   "file_extension": ".py",
   "mimetype": "text/x-python",
   "name": "python",
   "nbconvert_exporter": "python",
   "pygments_lexer": "ipython3",
   "version": "3.7.6"
  }
 },
 "nbformat": 4,
 "nbformat_minor": 4
}
